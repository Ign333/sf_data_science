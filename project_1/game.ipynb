{
 "cells": [
  {
   "cell_type": "markdown",
   "metadata": {},
   "source": [
    "# Игра угадай число"
   ]
  },
  {
   "cell_type": "code",
   "execution_count": 19,
   "metadata": {},
   "outputs": [],
   "source": [
    "\"\"\"Игра угадай число\n",
    "Компьютер сам загадывает и сам угадывает число\n",
    "\n",
    "Библиотека функций\n",
    "\"\"\"\n",
    "\n",
    "import numpy as np\n",
    "\n",
    "\n",
    "def random_predict(number: int = 1) -> int:\n",
    "    \"\"\"Рандомно угадываем число\n",
    "\n",
    "    Args:\n",
    "        number (int, optional): Загаданное число. Defaults to 1.\n",
    "\n",
    "    Returns:\n",
    "        int: Число попыток\n",
    "    \"\"\"\n",
    "    count = 0 #счетчик попыток\n",
    "\n",
    "    lower_limit = 1\n",
    "    higher_limit = 101\n",
    "    while True:\n",
    "        count += 1\n",
    "        predict_number = np.random.randint(lower_limit, higher_limit)  # предполагаемое число\n",
    "     \n",
    "        # Для сокращения числа попыток используем динамический диапазон для генерации случ. чисел \n",
    "        # с целью сужения диапазона поиска:\n",
    "        # 1. если предполагаемое число меньше загаданного числа, то ставим нижнюю границу диапазона для \n",
    "        #    генерации следующего числа равной этому предполагаемому числу + 1\n",
    "        # 2. если предполагаемое число больше загаданного числа, то ставим верхнюю границу диапазона для \n",
    "        #    генерации следующего числа равной этому предполагаемому числу\n",
    "        if predict_number < number:\n",
    "            lower_limit = predict_number + 1\n",
    "        elif predict_number > number:\n",
    "            higher_limit = predict_number\n",
    "        else:\n",
    "            break  # выход из цикла если угадали\n",
    "\n",
    "\n",
    "    return count\n",
    "\n",
    "\n",
    "def score_game(random_predict) -> int:\n",
    "    \"\"\"За какое количство попыток в среднем за 1000 подходов угадывает наш алгоритм\n",
    "\n",
    "    Args:\n",
    "        random_predict ([type]): функция угадывания\n",
    "\n",
    "    Returns:\n",
    "        int: среднее количество попыток\n",
    "    \"\"\"\n",
    "    count_ls = []\n",
    "    #np.random.seed(1)  # перезапуск генератора для ранних версий numpy\n",
    "    random_array = np.random.randint(1, 101, size=(1000))  # загадали список чисел\n",
    "\n",
    "    for number in random_array:\n",
    "        count_ls.append(random_predict(number))\n",
    "\n",
    "    score = int(np.mean(count_ls))\n",
    "    print(f\"Ваш алгоритм угадывает число в среднем за:{score} попыток\")\n",
    "    return score\n",
    "\n",
    "\n"
   ]
  },
  {
   "cell_type": "markdown",
   "metadata": {},
   "source": [
    "## Угадываем рандомно"
   ]
  },
  {
   "cell_type": "code",
   "execution_count": 22,
   "metadata": {},
   "outputs": [
    {
     "name": "stdout",
     "output_type": "stream",
     "text": [
      "Ваш алгоритм угадывает число в среднем за:7 попыток\n"
     ]
    },
    {
     "data": {
      "text/plain": [
       "7"
      ]
     },
     "execution_count": 22,
     "metadata": {},
     "output_type": "execute_result"
    }
   ],
   "source": [
    "import game_v2\n",
    "score_game(random_predict)"
   ]
  },
  {
   "cell_type": "code",
   "execution_count": null,
   "metadata": {},
   "outputs": [],
   "source": []
  }
 ],
 "metadata": {
  "interpreter": {
   "hash": "31f2aee4e71d21fbe5cf8b01ff0e069b9275f58929596ceb00d14d90e3e16cd6"
  },
  "kernelspec": {
   "display_name": "Python 3.8.10 64-bit",
   "language": "python",
   "name": "python3"
  },
  "language_info": {
   "codemirror_mode": {
    "name": "ipython",
    "version": 3
   },
   "file_extension": ".py",
   "mimetype": "text/x-python",
   "name": "python",
   "nbconvert_exporter": "python",
   "pygments_lexer": "ipython3",
   "version": "3.8.10"
  },
  "orig_nbformat": 4
 },
 "nbformat": 4,
 "nbformat_minor": 2
}
